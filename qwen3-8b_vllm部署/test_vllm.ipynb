{
 "cells": [
  {
   "cell_type": "code",
   "execution_count": 3,
   "id": "4317313e-3f7a-45fa-a6c6-f1d767782516",
   "metadata": {
    "execution": {
     "iopub.execute_input": "2025-09-05T11:09:30.925733Z",
     "iopub.status.busy": "2025-09-05T11:09:30.925442Z",
     "iopub.status.idle": "2025-09-05T11:09:31.177193Z",
     "shell.execute_reply": "2025-09-05T11:09:31.176769Z",
     "shell.execute_reply.started": "2025-09-05T11:09:30.925713Z"
    },
    "tags": []
   },
   "outputs": [
    {
     "name": "stdout",
     "output_type": "stream",
     "text": [
      "200\n",
      "{\"id\":\"cmpl-f80ab21b7bb54355834aa0e7d2f99884\",\"object\":\"text_completion\",\"created\":1757070570,\"model\":\"Qwen3-8B\",\"choices\":[{\"index\":0,\"text\":\" city in the state of California,\",\"logprobs\":null,\"finish_reason\":\"length\",\"stop_reason\":null,\"prompt_logprobs\":null}],\"service_tier\":null,\"system_fingerprint\":null,\"usage\":{\"prompt_tokens\":4,\"total_tokens\":11,\"completion_tokens\":7,\"prompt_tokens_details\":null},\"kv_transfer_params\":null}\n"
     ]
    }
   ],
   "source": [
    "import requests\n",
    "import json\n",
    "\n",
    "url = \"http://localhost:8000/v1/completions\"\n",
    "headers = {\"Content-Type\": \"application/json\"}\n",
    "data = {\n",
    "    \"model\": \"Qwen3-8B\",\n",
    "    \"prompt\": \"San Francisco is a\",\n",
    "    \"max_tokens\": 7,\n",
    "    \"temperature\": 0\n",
    "}\n",
    "\n",
    "response = requests.post(url, headers=headers, data=json.dumps(data))\n",
    "print(response.status_code)\n",
    "print(response.text)"
   ]
  }
 ],
 "metadata": {
  "kernelspec": {
   "display_name": "Python 3 (ipykernel)",
   "language": "python",
   "name": "python3"
  },
  "language_info": {
   "codemirror_mode": {
    "name": "ipython",
    "version": 3
   },
   "file_extension": ".py",
   "mimetype": "text/x-python",
   "name": "python",
   "nbconvert_exporter": "python",
   "pygments_lexer": "ipython3",
   "version": "3.11.11"
  }
 },
 "nbformat": 4,
 "nbformat_minor": 5
}
